{
 "cells": [
  {
   "cell_type": "code",
   "execution_count": 2,
   "metadata": {},
   "outputs": [
    {
     "name": "stdout",
     "output_type": "stream",
     "text": [
      "Positive\n"
     ]
    }
   ],
   "source": [
    "a=5\n",
    "if a>0:\n",
    "    print('Positive')\n",
    "else:\n",
    "    print('Negative')"
   ]
  },
  {
   "cell_type": "code",
   "execution_count": 24,
   "metadata": {},
   "outputs": [
    {
     "name": "stdout",
     "output_type": "stream",
     "text": [
      "Please Enter your marks\n",
      "C\n"
     ]
    }
   ],
   "source": [
    "print('Please Enter your marks')\n",
    "mark= int(input())\n",
    "if mark < 100:\n",
    "    if mark >= 80 and mark <=99:\n",
    "      print('A+')\n",
    "    if mark >=70 and mark <=79:\n",
    "        print('A')\n",
    "    if mark >=60 and mark <=69:\n",
    "        print('B')  \n",
    "    if mark >=50 and mark <=59:\n",
    "        print('C')  \n",
    "    else:\n",
    "        print('F')\n",
    "  \n",
    "else:\n",
    "    print('Please Enter the number 0 to 99')"
   ]
  }
 ],
 "metadata": {
  "kernelspec": {
   "display_name": "Python 3",
   "language": "python",
   "name": "python3"
  },
  "language_info": {
   "codemirror_mode": {
    "name": "ipython",
    "version": 3
   },
   "file_extension": ".py",
   "mimetype": "text/x-python",
   "name": "python",
   "nbconvert_exporter": "python",
   "pygments_lexer": "ipython3",
   "version": "3.10.4"
  },
  "orig_nbformat": 4,
  "vscode": {
   "interpreter": {
    "hash": "3ad933181bd8a04b432d3370b9dc3b0662ad032c4dfaa4e4f1596c548f763858"
   }
  }
 },
 "nbformat": 4,
 "nbformat_minor": 2
}
